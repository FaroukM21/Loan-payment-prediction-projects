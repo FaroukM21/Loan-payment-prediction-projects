{
 "cells": [
  {
   "cell_type": "markdown",
   "id": "4337ce48",
   "metadata": {},
   "source": [
    "## About the  Dataset\n",
    "\n",
    " This data set includes customers who have paid off their loans, who have been past due and put into collection without paying back their loan and interests, and who have paid off only after they were put in collection. The financial product is a bullet loan that customers should pay off all of their loan debt in just one time by the end of the term, instead of an installment schedule. Of course, they could pay off earlier than their pay schedule.\n",
    "\n",
    "## Content\n",
    "\n",
    "Loan_id A unique loan number assigned to each loan customers\n",
    "\n",
    "Loan_status Whether a loan is paid off, in collection, new customer yet to payoff, or paid off after the collection efforts\n",
    "\n",
    "Principal Basic principal loan amount at the origination\n",
    "\n",
    "terms Can be weekly (7 days), biweekly, and monthly payoff schedule\n",
    "\n",
    "Effective_date When the loan got originated and took effects\n",
    "\n",
    "Due_date Since it’s one-time payoff schedule, each loan has one single due date\n",
    "\n",
    "Paid_off_time The actual time a customer pays off the loan\n",
    "\n",
    "Past_due_days How many days a loan has been past due\n",
    "\n",
    "Age, education, gender A customer’s basic demographic information"
   ]
  },
  {
   "cell_type": "code",
   "execution_count": 103,
   "id": "9066dc91",
   "metadata": {},
   "outputs": [],
   "source": [
    "import pandas as pd\n",
    "import numpy as np\n",
    "import matplotlib.pyplot as plt\n",
    "import seaborn as sns\n",
    "from sklearn.model_selection import train_test_split\n",
    "from sklearn.naive_bayes import MultinomialNB\n",
    "from sklearn.discriminant_analysis import LinearDiscriminantAnalysis\n",
    "from sklearn.linear_model import LogisticRegression\n",
    "from sklearn.metrics import confusion_matrix, accuracy_score, roc_curve, roc_auc_score\n",
    "from imblearn.over_sampling import SMOTE\n",
    "from collections import Counter"
   ]
  },
  {
   "cell_type": "code",
   "execution_count": 69,
   "id": "30e8bf07",
   "metadata": {},
   "outputs": [
    {
     "data": {
      "text/html": [
       "<div>\n",
       "<style scoped>\n",
       "    .dataframe tbody tr th:only-of-type {\n",
       "        vertical-align: middle;\n",
       "    }\n",
       "\n",
       "    .dataframe tbody tr th {\n",
       "        vertical-align: top;\n",
       "    }\n",
       "\n",
       "    .dataframe thead th {\n",
       "        text-align: right;\n",
       "    }\n",
       "</style>\n",
       "<table border=\"1\" class=\"dataframe\">\n",
       "  <thead>\n",
       "    <tr style=\"text-align: right;\">\n",
       "      <th></th>\n",
       "      <th>Loan_ID</th>\n",
       "      <th>loan_status</th>\n",
       "      <th>Principal</th>\n",
       "      <th>terms</th>\n",
       "      <th>effective_date</th>\n",
       "      <th>due_date</th>\n",
       "      <th>paid_off_time</th>\n",
       "      <th>past_due_days</th>\n",
       "      <th>age</th>\n",
       "      <th>education</th>\n",
       "      <th>Gender</th>\n",
       "    </tr>\n",
       "  </thead>\n",
       "  <tbody>\n",
       "    <tr>\n",
       "      <th>0</th>\n",
       "      <td>xqd20166231</td>\n",
       "      <td>PAIDOFF</td>\n",
       "      <td>1000</td>\n",
       "      <td>30</td>\n",
       "      <td>9/8/2016</td>\n",
       "      <td>10/7/2016</td>\n",
       "      <td>9/14/2016 19:31</td>\n",
       "      <td>NaN</td>\n",
       "      <td>45</td>\n",
       "      <td>High School or Below</td>\n",
       "      <td>male</td>\n",
       "    </tr>\n",
       "    <tr>\n",
       "      <th>1</th>\n",
       "      <td>xqd20168902</td>\n",
       "      <td>PAIDOFF</td>\n",
       "      <td>1000</td>\n",
       "      <td>30</td>\n",
       "      <td>9/8/2016</td>\n",
       "      <td>10/7/2016</td>\n",
       "      <td>10/7/2016 9:00</td>\n",
       "      <td>NaN</td>\n",
       "      <td>50</td>\n",
       "      <td>Bechalor</td>\n",
       "      <td>female</td>\n",
       "    </tr>\n",
       "    <tr>\n",
       "      <th>2</th>\n",
       "      <td>xqd20160003</td>\n",
       "      <td>PAIDOFF</td>\n",
       "      <td>1000</td>\n",
       "      <td>30</td>\n",
       "      <td>9/8/2016</td>\n",
       "      <td>10/7/2016</td>\n",
       "      <td>9/25/2016 16:58</td>\n",
       "      <td>NaN</td>\n",
       "      <td>33</td>\n",
       "      <td>Bechalor</td>\n",
       "      <td>female</td>\n",
       "    </tr>\n",
       "    <tr>\n",
       "      <th>3</th>\n",
       "      <td>xqd20160004</td>\n",
       "      <td>PAIDOFF</td>\n",
       "      <td>1000</td>\n",
       "      <td>15</td>\n",
       "      <td>9/8/2016</td>\n",
       "      <td>9/22/2016</td>\n",
       "      <td>9/22/2016 20:00</td>\n",
       "      <td>NaN</td>\n",
       "      <td>27</td>\n",
       "      <td>college</td>\n",
       "      <td>male</td>\n",
       "    </tr>\n",
       "    <tr>\n",
       "      <th>4</th>\n",
       "      <td>xqd20160005</td>\n",
       "      <td>PAIDOFF</td>\n",
       "      <td>1000</td>\n",
       "      <td>30</td>\n",
       "      <td>9/9/2016</td>\n",
       "      <td>10/8/2016</td>\n",
       "      <td>9/23/2016 21:36</td>\n",
       "      <td>NaN</td>\n",
       "      <td>28</td>\n",
       "      <td>college</td>\n",
       "      <td>female</td>\n",
       "    </tr>\n",
       "  </tbody>\n",
       "</table>\n",
       "</div>"
      ],
      "text/plain": [
       "       Loan_ID loan_status  Principal  terms effective_date   due_date  \\\n",
       "0  xqd20166231     PAIDOFF       1000     30       9/8/2016  10/7/2016   \n",
       "1  xqd20168902     PAIDOFF       1000     30       9/8/2016  10/7/2016   \n",
       "2  xqd20160003     PAIDOFF       1000     30       9/8/2016  10/7/2016   \n",
       "3  xqd20160004     PAIDOFF       1000     15       9/8/2016  9/22/2016   \n",
       "4  xqd20160005     PAIDOFF       1000     30       9/9/2016  10/8/2016   \n",
       "\n",
       "     paid_off_time  past_due_days  age             education  Gender  \n",
       "0  9/14/2016 19:31            NaN   45  High School or Below    male  \n",
       "1   10/7/2016 9:00            NaN   50              Bechalor  female  \n",
       "2  9/25/2016 16:58            NaN   33              Bechalor  female  \n",
       "3  9/22/2016 20:00            NaN   27               college    male  \n",
       "4  9/23/2016 21:36            NaN   28               college  female  "
      ]
     },
     "execution_count": 69,
     "metadata": {},
     "output_type": "execute_result"
    }
   ],
   "source": [
    "df = pd.read_csv('Loan payments data.csv')\n",
    "df.head()"
   ]
  },
  {
   "cell_type": "code",
   "execution_count": 70,
   "id": "570c3fa8",
   "metadata": {
    "scrolled": true
   },
   "outputs": [
    {
     "data": {
      "text/html": [
       "<div>\n",
       "<style scoped>\n",
       "    .dataframe tbody tr th:only-of-type {\n",
       "        vertical-align: middle;\n",
       "    }\n",
       "\n",
       "    .dataframe tbody tr th {\n",
       "        vertical-align: top;\n",
       "    }\n",
       "\n",
       "    .dataframe thead th {\n",
       "        text-align: right;\n",
       "    }\n",
       "</style>\n",
       "<table border=\"1\" class=\"dataframe\">\n",
       "  <thead>\n",
       "    <tr style=\"text-align: right;\">\n",
       "      <th></th>\n",
       "      <th>Loan_ID</th>\n",
       "      <th>loan_status</th>\n",
       "      <th>Principal</th>\n",
       "      <th>terms</th>\n",
       "      <th>effective_date</th>\n",
       "      <th>due_date</th>\n",
       "      <th>paid_off_time</th>\n",
       "      <th>past_due_days</th>\n",
       "      <th>age</th>\n",
       "      <th>education</th>\n",
       "      <th>Gender</th>\n",
       "    </tr>\n",
       "  </thead>\n",
       "  <tbody>\n",
       "    <tr>\n",
       "      <th>0</th>\n",
       "      <td>xqd20166231</td>\n",
       "      <td>PAIDOFF</td>\n",
       "      <td>1000</td>\n",
       "      <td>30</td>\n",
       "      <td>2016-09-08</td>\n",
       "      <td>2016-10-07</td>\n",
       "      <td>2016-09-14 19:31:00</td>\n",
       "      <td>NaN</td>\n",
       "      <td>45</td>\n",
       "      <td>High School or Below</td>\n",
       "      <td>male</td>\n",
       "    </tr>\n",
       "    <tr>\n",
       "      <th>1</th>\n",
       "      <td>xqd20168902</td>\n",
       "      <td>PAIDOFF</td>\n",
       "      <td>1000</td>\n",
       "      <td>30</td>\n",
       "      <td>2016-09-08</td>\n",
       "      <td>2016-10-07</td>\n",
       "      <td>2016-10-07 09:00:00</td>\n",
       "      <td>NaN</td>\n",
       "      <td>50</td>\n",
       "      <td>Bechalor</td>\n",
       "      <td>female</td>\n",
       "    </tr>\n",
       "    <tr>\n",
       "      <th>2</th>\n",
       "      <td>xqd20160003</td>\n",
       "      <td>PAIDOFF</td>\n",
       "      <td>1000</td>\n",
       "      <td>30</td>\n",
       "      <td>2016-09-08</td>\n",
       "      <td>2016-10-07</td>\n",
       "      <td>2016-09-25 16:58:00</td>\n",
       "      <td>NaN</td>\n",
       "      <td>33</td>\n",
       "      <td>Bechalor</td>\n",
       "      <td>female</td>\n",
       "    </tr>\n",
       "    <tr>\n",
       "      <th>3</th>\n",
       "      <td>xqd20160004</td>\n",
       "      <td>PAIDOFF</td>\n",
       "      <td>1000</td>\n",
       "      <td>15</td>\n",
       "      <td>2016-09-08</td>\n",
       "      <td>2016-09-22</td>\n",
       "      <td>2016-09-22 20:00:00</td>\n",
       "      <td>NaN</td>\n",
       "      <td>27</td>\n",
       "      <td>college</td>\n",
       "      <td>male</td>\n",
       "    </tr>\n",
       "    <tr>\n",
       "      <th>4</th>\n",
       "      <td>xqd20160005</td>\n",
       "      <td>PAIDOFF</td>\n",
       "      <td>1000</td>\n",
       "      <td>30</td>\n",
       "      <td>2016-09-09</td>\n",
       "      <td>2016-10-08</td>\n",
       "      <td>2016-09-23 21:36:00</td>\n",
       "      <td>NaN</td>\n",
       "      <td>28</td>\n",
       "      <td>college</td>\n",
       "      <td>female</td>\n",
       "    </tr>\n",
       "  </tbody>\n",
       "</table>\n",
       "</div>"
      ],
      "text/plain": [
       "       Loan_ID loan_status  Principal  terms effective_date   due_date  \\\n",
       "0  xqd20166231     PAIDOFF       1000     30     2016-09-08 2016-10-07   \n",
       "1  xqd20168902     PAIDOFF       1000     30     2016-09-08 2016-10-07   \n",
       "2  xqd20160003     PAIDOFF       1000     30     2016-09-08 2016-10-07   \n",
       "3  xqd20160004     PAIDOFF       1000     15     2016-09-08 2016-09-22   \n",
       "4  xqd20160005     PAIDOFF       1000     30     2016-09-09 2016-10-08   \n",
       "\n",
       "        paid_off_time  past_due_days  age             education  Gender  \n",
       "0 2016-09-14 19:31:00            NaN   45  High School or Below    male  \n",
       "1 2016-10-07 09:00:00            NaN   50              Bechalor  female  \n",
       "2 2016-09-25 16:58:00            NaN   33              Bechalor  female  \n",
       "3 2016-09-22 20:00:00            NaN   27               college    male  \n",
       "4 2016-09-23 21:36:00            NaN   28               college  female  "
      ]
     },
     "execution_count": 70,
     "metadata": {},
     "output_type": "execute_result"
    }
   ],
   "source": [
    "df['due_date'] = pd.to_datetime(df['due_date'])\n",
    "df['effective_date'] = pd.to_datetime(df['effective_date'])\n",
    "df['paid_off_time'] = pd.to_datetime(df['paid_off_time'])\n",
    "df.head()"
   ]
  },
  {
   "cell_type": "code",
   "execution_count": 71,
   "id": "6d0a1930",
   "metadata": {
    "scrolled": true
   },
   "outputs": [
    {
     "data": {
      "text/plain": [
       "array([nan, nan, nan, nan, nan, nan, nan, nan, nan, nan, nan, nan, nan,\n",
       "       nan, nan, nan, nan, nan, nan, nan, nan, nan, nan, nan, nan, nan,\n",
       "       nan, nan, nan, nan, nan, nan, nan, nan, nan, nan, nan, nan, nan,\n",
       "       nan, nan, nan, nan, nan, nan, nan, nan, nan, nan, nan, nan, nan,\n",
       "       nan, nan, nan, nan, nan, nan, nan, nan, nan, nan, nan, nan, nan,\n",
       "       nan, nan, nan, nan, nan, nan, nan, nan, nan, nan, nan, nan, nan,\n",
       "       nan, nan, nan, nan, nan, nan, nan, nan, nan, nan, nan, nan, nan,\n",
       "       nan, nan, nan, nan, nan, nan, nan, nan, nan, nan, nan, nan, nan,\n",
       "       nan, nan, nan, nan, nan, nan, nan, nan, nan, nan, nan, nan, nan,\n",
       "       nan, nan, nan, nan, nan, nan, nan, nan, nan, nan, nan, nan, nan,\n",
       "       nan, nan, nan, nan, nan, nan, nan, nan, nan, nan, nan, nan, nan,\n",
       "       nan, nan, nan, nan, nan, nan, nan, nan, nan, nan, nan, nan, nan,\n",
       "       nan, nan, nan, nan, nan, nan, nan, nan, nan, nan, nan, nan, nan,\n",
       "       nan, nan, nan, nan, nan, nan, nan, nan, nan, nan, nan, nan, nan,\n",
       "       nan, nan, nan, nan, nan, nan, nan, nan, nan, nan, nan, nan, nan,\n",
       "       nan, nan, nan, nan, nan, nan, nan, nan, nan, nan, nan, nan, nan,\n",
       "       nan, nan, nan, nan, nan, nan, nan, nan, nan, nan, nan, nan, nan,\n",
       "       nan, nan, nan, nan, nan, nan, nan, nan, nan, nan, nan, nan, nan,\n",
       "       nan, nan, nan, nan, nan, nan, nan, nan, nan, nan, nan, nan, nan,\n",
       "       nan, nan, nan, nan, nan, nan, nan, nan, nan, nan, nan, nan, nan,\n",
       "       nan, nan, nan, nan, nan, nan, nan, nan, nan, nan, nan, nan, nan,\n",
       "       nan, nan, nan, nan, nan, nan, nan, nan, nan, nan, nan, nan, nan,\n",
       "       nan, nan, nan, nan, nan, nan, nan, nan, nan, nan, nan, nan, nan,\n",
       "       nan, 76., 61., 61., 76., 76., 75., 60., 60., 60., 75., 60., 75.,\n",
       "       60., 60., 60., 60., 60., 75., 60., 75., 60., 60., 60., 75., 75.,\n",
       "       59., 74., 29., 59., 59., 44., 74., 59., 59., 59., 59., 59., 59.,\n",
       "       74., 74., 59., 59., 74., 59., 74., 59., 29., 74., 59., 74., 59.,\n",
       "       74., 59., 59., 59., 59., 59., 59., 59., 59., 59., 74., 59., 74.,\n",
       "       74., 59., 59., 74., 59., 59., 74., 59., 74., 74., 59., 74., 74.,\n",
       "       59., 59., 59., 59., 74., 74., 59., 59., 29., 74., 59., 74., 44.,\n",
       "       74., 74., 59., 29., 74., 59., 58., 73., 28., 58.,  2.,  4., 13.,\n",
       "        5.,  3., 12.,  2., 27., 44.,  5.,  1., 27.,  2.,  1.,  2.,  2.,\n",
       "        1.,  3., 12., 25.,  3.,  2.,  4.,  2.,  1., 24.,  1.,  2.,  2.,\n",
       "        1.,  3.,  4.,  2.,  2.,  1.,  1., 36.,  1.,  7.,  5., 14.,  2.,\n",
       "        1., 28.,  2.,  2., 25., 23.,  3.,  1.,  3.,  4.,  3.,  3.,  6.,\n",
       "        2., 38., 19.,  2.,  2.,  2.,  7.,  5.,  4.,  1.,  1.,  4.,  1.,\n",
       "        4., 52.,  2., 24., 51.,  3.,  2., 29.,  5.,  9., 27.,  1., 29.,\n",
       "        3.,  1.,  7.,  4.,  3., 56.,  2., 13.,  1.,  6., 29., 14.,  3.,\n",
       "        2.,  3., 14.,  3.,  1.,  8.])"
      ]
     },
     "execution_count": 71,
     "metadata": {},
     "output_type": "execute_result"
    }
   ],
   "source": [
    "df['past_due_days'].values"
   ]
  },
  {
   "cell_type": "code",
   "execution_count": 72,
   "id": "b182ac1e",
   "metadata": {},
   "outputs": [],
   "source": [
    "df.fillna(0,inplace=True)"
   ]
  },
  {
   "cell_type": "code",
   "execution_count": 73,
   "id": "78bb1759",
   "metadata": {
    "scrolled": true
   },
   "outputs": [
    {
     "data": {
      "text/html": [
       "<div>\n",
       "<style scoped>\n",
       "    .dataframe tbody tr th:only-of-type {\n",
       "        vertical-align: middle;\n",
       "    }\n",
       "\n",
       "    .dataframe tbody tr th {\n",
       "        vertical-align: top;\n",
       "    }\n",
       "\n",
       "    .dataframe thead tr th {\n",
       "        text-align: left;\n",
       "    }\n",
       "\n",
       "    .dataframe thead tr:last-of-type th {\n",
       "        text-align: right;\n",
       "    }\n",
       "</style>\n",
       "<table border=\"1\" class=\"dataframe\">\n",
       "  <thead>\n",
       "    <tr>\n",
       "      <th>education</th>\n",
       "      <th colspan=\"2\" halign=\"left\">Bechalor</th>\n",
       "      <th colspan=\"2\" halign=\"left\">High School or Below</th>\n",
       "      <th>Master or Above</th>\n",
       "      <th colspan=\"2\" halign=\"left\">college</th>\n",
       "    </tr>\n",
       "    <tr>\n",
       "      <th>Gender</th>\n",
       "      <th>female</th>\n",
       "      <th>male</th>\n",
       "      <th>female</th>\n",
       "      <th>male</th>\n",
       "      <th>male</th>\n",
       "      <th>female</th>\n",
       "      <th>male</th>\n",
       "    </tr>\n",
       "    <tr>\n",
       "      <th>loan_status</th>\n",
       "      <th></th>\n",
       "      <th></th>\n",
       "      <th></th>\n",
       "      <th></th>\n",
       "      <th></th>\n",
       "      <th></th>\n",
       "      <th></th>\n",
       "    </tr>\n",
       "  </thead>\n",
       "  <tbody>\n",
       "    <tr>\n",
       "      <th>COLLECTION</th>\n",
       "      <td>0.0</td>\n",
       "      <td>2.2</td>\n",
       "      <td>1.4</td>\n",
       "      <td>8.4</td>\n",
       "      <td>0.2</td>\n",
       "      <td>0.6</td>\n",
       "      <td>7.2</td>\n",
       "    </tr>\n",
       "    <tr>\n",
       "      <th>COLLECTION_PAIDOFF</th>\n",
       "      <td>0.2</td>\n",
       "      <td>2.8</td>\n",
       "      <td>1.0</td>\n",
       "      <td>6.4</td>\n",
       "      <td>0.0</td>\n",
       "      <td>1.6</td>\n",
       "      <td>8.0</td>\n",
       "    </tr>\n",
       "    <tr>\n",
       "      <th>PAIDOFF</th>\n",
       "      <td>2.4</td>\n",
       "      <td>5.8</td>\n",
       "      <td>3.8</td>\n",
       "      <td>20.8</td>\n",
       "      <td>0.6</td>\n",
       "      <td>4.4</td>\n",
       "      <td>22.2</td>\n",
       "    </tr>\n",
       "  </tbody>\n",
       "</table>\n",
       "</div>"
      ],
      "text/plain": [
       "education          Bechalor      High School or Below       Master or Above  \\\n",
       "Gender               female male               female  male            male   \n",
       "loan_status                                                                   \n",
       "COLLECTION              0.0  2.2                  1.4   8.4             0.2   \n",
       "COLLECTION_PAIDOFF      0.2  2.8                  1.0   6.4             0.0   \n",
       "PAIDOFF                 2.4  5.8                  3.8  20.8             0.6   \n",
       "\n",
       "education          college        \n",
       "Gender              female  male  \n",
       "loan_status                       \n",
       "COLLECTION             0.6   7.2  \n",
       "COLLECTION_PAIDOFF     1.6   8.0  \n",
       "PAIDOFF                4.4  22.2  "
      ]
     },
     "execution_count": 73,
     "metadata": {},
     "output_type": "execute_result"
    }
   ],
   "source": [
    "pd.crosstab(df.loan_status,[df.education,df.Gender],normalize=True)*100"
   ]
  },
  {
   "cell_type": "code",
   "execution_count": 74,
   "id": "70ee3d4f",
   "metadata": {
    "scrolled": true
   },
   "outputs": [],
   "source": []
  },
  {
   "cell_type": "markdown",
   "id": "62d840e2",
   "metadata": {},
   "source": [
    "### Imbalanced Data: data generation "
   ]
  },
  {
   "cell_type": "code",
   "execution_count": 75,
   "id": "4eb584a7",
   "metadata": {
    "scrolled": true
   },
   "outputs": [
    {
     "data": {
      "text/plain": [
       "1    400\n",
       "0    100\n",
       "Name: loan_status, dtype: int64"
      ]
     },
     "execution_count": 75,
     "metadata": {},
     "output_type": "execute_result"
    }
   ],
   "source": [
    "df.loan_status = df.loan_status.replace(to_replace=['PAIDOFF', 'COLLECTION', 'COLLECTION_PAIDOFF'],value=[1,0,1])\n",
    "df.loan_status.value_counts()"
   ]
  },
  {
   "cell_type": "code",
   "execution_count": 83,
   "id": "e827f548",
   "metadata": {},
   "outputs": [
    {
     "name": "stdout",
     "output_type": "stream",
     "text": [
      "Original dataset shape Counter({1: 324, 0: 76})\n",
      "Resampled dataset shape Counter({1: 324, 0: 324})\n"
     ]
    }
   ],
   "source": [
    "target = df.loan_status\n",
    "predictor = pd.get_dummies(df.drop(['Loan_ID','loan_status'],axis=1),drop_first=True)\n",
    "\n",
    "X_train, X_test, y_train,y_test = train_test_split(predictor,target,test_size=0.2)\n",
    "print('Original dataset shape %s' % Counter(y_train))\n",
    "sm = SMOTE()\n",
    "X_train_sm, y_train_sm = sm.fit_resample(X_train, y_train)\n",
    "print('Resampled dataset shape %s' % Counter(y_train_sm))"
   ]
  },
  {
   "cell_type": "markdown",
   "id": "dbe63ce2",
   "metadata": {},
   "source": [
    "### Naive Bayes classification"
   ]
  },
  {
   "cell_type": "code",
   "execution_count": 84,
   "id": "567f7fb4",
   "metadata": {},
   "outputs": [
    {
     "data": {
      "text/plain": [
       "MultinomialNB(alpha=0.01)"
      ]
     },
     "execution_count": 84,
     "metadata": {},
     "output_type": "execute_result"
    }
   ],
   "source": [
    "\n",
    "naive_model = MultinomialNB(alpha = 0.01, fit_prior = True)\n",
    "naive_model.fit(X_train_sm,y_train_sm)\n"
   ]
  },
  {
   "cell_type": "markdown",
   "id": "fe188b7f",
   "metadata": {},
   "source": [
    "### Discriminant Analysis"
   ]
  },
  {
   "cell_type": "code",
   "execution_count": 85,
   "id": "7cec9b4e",
   "metadata": {
    "scrolled": true
   },
   "outputs": [
    {
     "data": {
      "text/html": [
       "<div>\n",
       "<style scoped>\n",
       "    .dataframe tbody tr th:only-of-type {\n",
       "        vertical-align: middle;\n",
       "    }\n",
       "\n",
       "    .dataframe tbody tr th {\n",
       "        vertical-align: top;\n",
       "    }\n",
       "\n",
       "    .dataframe thead th {\n",
       "        text-align: right;\n",
       "    }\n",
       "</style>\n",
       "<table border=\"1\" class=\"dataframe\">\n",
       "  <thead>\n",
       "    <tr style=\"text-align: right;\">\n",
       "      <th></th>\n",
       "      <th>0</th>\n",
       "    </tr>\n",
       "  </thead>\n",
       "  <tbody>\n",
       "    <tr>\n",
       "      <th>Principal</th>\n",
       "      <td>-0.005038</td>\n",
       "    </tr>\n",
       "    <tr>\n",
       "      <th>terms</th>\n",
       "      <td>-0.197665</td>\n",
       "    </tr>\n",
       "    <tr>\n",
       "      <th>past_due_days</th>\n",
       "      <td>-0.293149</td>\n",
       "    </tr>\n",
       "    <tr>\n",
       "      <th>age</th>\n",
       "      <td>0.024652</td>\n",
       "    </tr>\n",
       "    <tr>\n",
       "      <th>effective_date_9/11/2016</th>\n",
       "      <td>0.144671</td>\n",
       "    </tr>\n",
       "    <tr>\n",
       "      <th>...</th>\n",
       "      <td>...</td>\n",
       "    </tr>\n",
       "    <tr>\n",
       "      <th>paid_off_time_9/9/2016 13:45</th>\n",
       "      <td>-2.045494</td>\n",
       "    </tr>\n",
       "    <tr>\n",
       "      <th>education_High School or Below</th>\n",
       "      <td>-0.002003</td>\n",
       "    </tr>\n",
       "    <tr>\n",
       "      <th>education_Master or Above</th>\n",
       "      <td>-2.422814</td>\n",
       "    </tr>\n",
       "    <tr>\n",
       "      <th>education_college</th>\n",
       "      <td>-0.072412</td>\n",
       "    </tr>\n",
       "    <tr>\n",
       "      <th>Gender_male</th>\n",
       "      <td>-0.251953</td>\n",
       "    </tr>\n",
       "  </tbody>\n",
       "</table>\n",
       "<p>358 rows × 1 columns</p>\n",
       "</div>"
      ],
      "text/plain": [
       "                                       0\n",
       "Principal                      -0.005038\n",
       "terms                          -0.197665\n",
       "past_due_days                  -0.293149\n",
       "age                             0.024652\n",
       "effective_date_9/11/2016        0.144671\n",
       "...                                  ...\n",
       "paid_off_time_9/9/2016 13:45   -2.045494\n",
       "education_High School or Below -0.002003\n",
       "education_Master or Above      -2.422814\n",
       "education_college              -0.072412\n",
       "Gender_male                    -0.251953\n",
       "\n",
       "[358 rows x 1 columns]"
      ]
     },
     "execution_count": 85,
     "metadata": {},
     "output_type": "execute_result"
    }
   ],
   "source": [
    "\n",
    "lda_model = LinearDiscriminantAnalysis()\n",
    "lda_model.fit(X_train_sm,y_train_sm)\n",
    "pd.DataFrame(lda_model.scalings_ ,index = X_train_sm.columns)"
   ]
  },
  {
   "cell_type": "markdown",
   "id": "d82f55bc",
   "metadata": {},
   "source": [
    "### Logistic Regression"
   ]
  },
  {
   "cell_type": "code",
   "execution_count": 87,
   "id": "1a7eac66",
   "metadata": {},
   "outputs": [
    {
     "data": {
      "text/plain": [
       "LogisticRegression(solver='liblinear')"
      ]
     },
     "execution_count": 87,
     "metadata": {},
     "output_type": "execute_result"
    }
   ],
   "source": [
    "logReg_model = LogisticRegression(penalty = 'l2', solver='liblinear')\n",
    "logReg_model.fit(X_train_sm,y_train_sm)"
   ]
  },
  {
   "cell_type": "markdown",
   "id": "e172ae01",
   "metadata": {},
   "source": [
    "### Evaluating the classification models"
   ]
  },
  {
   "cell_type": "code",
   "execution_count": 119,
   "id": "14bcd3fd",
   "metadata": {},
   "outputs": [
    {
     "name": "stdout",
     "output_type": "stream",
     "text": [
      "                               Collection  Paidoff or collection-paidoff\n",
      "Collection                             24                              0\n",
      "Paidoff or collection-paidoff           2                             74\n",
      "                               Collection  Paidoff or collection-paidoff\n",
      "Collection                             24                              0\n",
      "Paidoff or collection-paidoff           2                             74\n",
      "                               Collection  Paidoff or collection-paidoff\n",
      "Collection                             24                              0\n",
      "Paidoff or collection-paidoff           2                             74\n"
     ]
    }
   ],
   "source": [
    "y_hat_log = logReg_model.predict(X_test)\n",
    "conf_log = pd.DataFrame(confusion_matrix(y_test,y_hat_log),index=['Collection','Paidoff or collection-paidoff'],columns=['Collection','Paidoff or collection-paidoff'])\n",
    "y_hat_DA = logReg_model.predict(X_test)\n",
    "conf_DA = pd.DataFrame(confusion_matrix(y_test,y_hat_DA),index=['Collection','Paidoff or collection-paidoff'],columns=['Collection','Paidoff or collection-paidoff'])\n",
    "y_hat_NB = logReg_model.predict(X_test)\n",
    "conf_NB = pd.DataFrame(confusion_matrix(y_test,y_hat_NB),index=['Collection','Paidoff or collection-paidoff'],columns=['Collection','Paidoff or collection-paidoff'])\n",
    "\n",
    "print(conf_log)\n",
    "print(conf_DA)\n",
    "print(conf_NB)\n",
    "\n",
    "\n"
   ]
  },
  {
   "cell_type": "code",
   "execution_count": 102,
   "id": "173c1ac2",
   "metadata": {},
   "outputs": [
    {
     "data": {
      "text/plain": [
       "0.98"
      ]
     },
     "execution_count": 102,
     "metadata": {},
     "output_type": "execute_result"
    }
   ],
   "source": [
    "accuracy_score(y_test,y_hat)"
   ]
  },
  {
   "cell_type": "code",
   "execution_count": 112,
   "id": "a71bbca2",
   "metadata": {
    "scrolled": true
   },
   "outputs": [
    {
     "data": {
      "text/plain": [
       "Text(0, 0.5, 'recall')"
      ]
     },
     "execution_count": 112,
     "metadata": {},
     "output_type": "execute_result"
    },
    {
     "data": {
      "image/png": "[encoded data removed]",
      "text/plain": [
       "<Figure size 400x400 with 1 Axes>"
      ]
     },
     "metadata": {},
     "output_type": "display_data"
    }
   ],
   "source": [
    "fpr, tpr, thresholds = roc_curve(target,y_hat_NB)\n",
    "roc_df = pd.DataFrame({'recall':tpr , 'specificity': 1-fpr})\n",
    "ax= roc_df.plot(x='specificity',y='recall',figsize=(4,4))\n",
    "ax.set_ylim(0,1)\n",
    "ax.set_xlim(1,0)\n",
    "ax.plot((1,0),(0,1))\n",
    "ax.set_xlabel('specificity')\n",
    "ax.set_ylabel('recall')"
   ]
  },
  {
   "cell_type": "code",
   "execution_count": 118,
   "id": "20a87425",
   "metadata": {},
   "outputs": [
    {
     "name": "stdout",
     "output_type": "stream",
     "text": [
      "                               Collection  Paidoff or collection-paidoff\n",
      "Collection                             99                              1\n",
      "Paidoff or collection-paidoff           5                            395\n",
      "0.988\n"
     ]
    },
    {
     "data": {
      "text/plain": [
       "Text(0, 0.5, 'recall')"
      ]
     },
     "execution_count": 118,
     "metadata": {},
     "output_type": "execute_result"
    },
    {
     "data": {
      "image/png": "[encoded data removed]",
      "text/plain": [
       "<Figure size 400x400 with 1 Axes>"
      ]
     },
     "metadata": {},
     "output_type": "display_data"
    }
   ],
   "source": [
    "y_hat_log = logReg_model.predict(predictor)\n",
    "conf_log = pd.DataFrame(confusion_matrix(target,y_hat_log),index=['Collection','Paidoff or collection-paidoff'],columns=['Collection','Paidoff or collection-paidoff'])\n",
    "print(conf_log)\n",
    "print(accuracy_score(target,y_hat_log))\n",
    "fpr, tpr, thresholds = roc_curve(target,y_hat_log)\n",
    "roc_df = pd.DataFrame({'recall':tpr , 'specificity': 1-fpr})\n",
    "ax= roc_df.plot(x='specificity',y='recall',figsize=(4,4))\n",
    "ax.set_ylim(0,1)\n",
    "ax.set_xlim(1,0)\n",
    "ax.plot((1,0),(0,1))\n",
    "ax.set_xlabel('specificity')\n",
    "ax.set_ylabel('recall')"
   ]
  }
 ],
 "metadata": {
  "kernelspec": {
   "display_name": "Python 3 (ipykernel)",
   "language": "python",
   "name": "python3"
  },
  "language_info": {
   "codemirror_mode": {
    "name": "ipython",
    "version": 3
   },
   "file_extension": ".py",
   "mimetype": "text/x-python",
   "name": "python",
   "nbconvert_exporter": "python",
   "pygments_lexer": "ipython3",
   "version": "3.9.13"
  }
 },
 "nbformat": 4,
 "nbformat_minor": 5
}
